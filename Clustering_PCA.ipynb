{
  "nbformat": 4,
  "nbformat_minor": 0,
  "metadata": {
    "kernelspec": {
      "display_name": "Python 3",
      "language": "python",
      "name": "python3"
    },
    "language_info": {
      "codemirror_mode": {
        "name": "ipython",
        "version": 3
      },
      "file_extension": ".py",
      "mimetype": "text/x-python",
      "name": "python",
      "nbconvert_exporter": "python",
      "pygments_lexer": "ipython3",
      "version": "3.7.3"
    },
    "colab": {
      "name": "Clustering_PCA.ipynb",
      "provenance": []
    }
  },
  "cells": [
    {
      "cell_type": "code",
      "metadata": {
        "id": "cAl2tWl5mjFV",
        "colab_type": "code",
        "colab": {},
        "outputId": "82b6f81a-160b-45c4-fa6f-50cd8441a645"
      },
      "source": [
        "\n",
        "\n",
        "import pandas as pd\n",
        "import numpy as np\n",
        "import matplotlib.pyplot as plt\n",
        "M=pd.read_csv(\"digitData2.csv\",header=None)\n",
        "M.head()"
      ],
      "execution_count": null,
      "outputs": [
        {
          "output_type": "execute_result",
          "data": {
            "text/html": [
              "<div>\n",
              "<style scoped>\n",
              "    .dataframe tbody tr th:only-of-type {\n",
              "        vertical-align: middle;\n",
              "    }\n",
              "\n",
              "    .dataframe tbody tr th {\n",
              "        vertical-align: top;\n",
              "    }\n",
              "\n",
              "    .dataframe thead th {\n",
              "        text-align: right;\n",
              "    }\n",
              "</style>\n",
              "<table border=\"1\" class=\"dataframe\">\n",
              "  <thead>\n",
              "    <tr style=\"text-align: right;\">\n",
              "      <th></th>\n",
              "      <th>0</th>\n",
              "      <th>1</th>\n",
              "      <th>2</th>\n",
              "      <th>3</th>\n",
              "      <th>4</th>\n",
              "      <th>5</th>\n",
              "      <th>6</th>\n",
              "      <th>7</th>\n",
              "      <th>8</th>\n",
              "      <th>9</th>\n",
              "      <th>...</th>\n",
              "      <th>55</th>\n",
              "      <th>56</th>\n",
              "      <th>57</th>\n",
              "      <th>58</th>\n",
              "      <th>59</th>\n",
              "      <th>60</th>\n",
              "      <th>61</th>\n",
              "      <th>62</th>\n",
              "      <th>63</th>\n",
              "      <th>64</th>\n",
              "    </tr>\n",
              "  </thead>\n",
              "  <tbody>\n",
              "    <tr>\n",
              "      <th>0</th>\n",
              "      <td>0.0</td>\n",
              "      <td>0.0</td>\n",
              "      <td>5.0</td>\n",
              "      <td>13.0</td>\n",
              "      <td>9.0</td>\n",
              "      <td>1.0</td>\n",
              "      <td>0.0</td>\n",
              "      <td>0.0</td>\n",
              "      <td>0.0</td>\n",
              "      <td>0.0</td>\n",
              "      <td>...</td>\n",
              "      <td>0.0</td>\n",
              "      <td>0.0</td>\n",
              "      <td>0.0</td>\n",
              "      <td>6.0</td>\n",
              "      <td>13.0</td>\n",
              "      <td>10.0</td>\n",
              "      <td>0.0</td>\n",
              "      <td>0.0</td>\n",
              "      <td>0.0</td>\n",
              "      <td>0.0</td>\n",
              "    </tr>\n",
              "    <tr>\n",
              "      <th>1</th>\n",
              "      <td>0.0</td>\n",
              "      <td>0.0</td>\n",
              "      <td>0.0</td>\n",
              "      <td>12.0</td>\n",
              "      <td>13.0</td>\n",
              "      <td>5.0</td>\n",
              "      <td>0.0</td>\n",
              "      <td>0.0</td>\n",
              "      <td>0.0</td>\n",
              "      <td>0.0</td>\n",
              "      <td>...</td>\n",
              "      <td>0.0</td>\n",
              "      <td>0.0</td>\n",
              "      <td>0.0</td>\n",
              "      <td>0.0</td>\n",
              "      <td>11.0</td>\n",
              "      <td>16.0</td>\n",
              "      <td>10.0</td>\n",
              "      <td>0.0</td>\n",
              "      <td>0.0</td>\n",
              "      <td>1.0</td>\n",
              "    </tr>\n",
              "    <tr>\n",
              "      <th>2</th>\n",
              "      <td>0.0</td>\n",
              "      <td>0.0</td>\n",
              "      <td>0.0</td>\n",
              "      <td>4.0</td>\n",
              "      <td>15.0</td>\n",
              "      <td>12.0</td>\n",
              "      <td>0.0</td>\n",
              "      <td>0.0</td>\n",
              "      <td>0.0</td>\n",
              "      <td>0.0</td>\n",
              "      <td>...</td>\n",
              "      <td>0.0</td>\n",
              "      <td>0.0</td>\n",
              "      <td>0.0</td>\n",
              "      <td>0.0</td>\n",
              "      <td>3.0</td>\n",
              "      <td>11.0</td>\n",
              "      <td>16.0</td>\n",
              "      <td>9.0</td>\n",
              "      <td>0.0</td>\n",
              "      <td>2.0</td>\n",
              "    </tr>\n",
              "    <tr>\n",
              "      <th>3</th>\n",
              "      <td>0.0</td>\n",
              "      <td>0.0</td>\n",
              "      <td>7.0</td>\n",
              "      <td>15.0</td>\n",
              "      <td>13.0</td>\n",
              "      <td>1.0</td>\n",
              "      <td>0.0</td>\n",
              "      <td>0.0</td>\n",
              "      <td>0.0</td>\n",
              "      <td>8.0</td>\n",
              "      <td>...</td>\n",
              "      <td>0.0</td>\n",
              "      <td>0.0</td>\n",
              "      <td>0.0</td>\n",
              "      <td>7.0</td>\n",
              "      <td>13.0</td>\n",
              "      <td>13.0</td>\n",
              "      <td>9.0</td>\n",
              "      <td>0.0</td>\n",
              "      <td>0.0</td>\n",
              "      <td>3.0</td>\n",
              "    </tr>\n",
              "    <tr>\n",
              "      <th>4</th>\n",
              "      <td>0.0</td>\n",
              "      <td>0.0</td>\n",
              "      <td>0.0</td>\n",
              "      <td>1.0</td>\n",
              "      <td>11.0</td>\n",
              "      <td>0.0</td>\n",
              "      <td>0.0</td>\n",
              "      <td>0.0</td>\n",
              "      <td>0.0</td>\n",
              "      <td>0.0</td>\n",
              "      <td>...</td>\n",
              "      <td>0.0</td>\n",
              "      <td>0.0</td>\n",
              "      <td>0.0</td>\n",
              "      <td>0.0</td>\n",
              "      <td>2.0</td>\n",
              "      <td>16.0</td>\n",
              "      <td>4.0</td>\n",
              "      <td>0.0</td>\n",
              "      <td>0.0</td>\n",
              "      <td>4.0</td>\n",
              "    </tr>\n",
              "  </tbody>\n",
              "</table>\n",
              "<p>5 rows × 65 columns</p>\n",
              "</div>"
            ],
            "text/plain": [
              "    0    1    2     3     4     5    6    7    8    9   ...   55   56   57  \\\n",
              "0  0.0  0.0  5.0  13.0   9.0   1.0  0.0  0.0  0.0  0.0  ...  0.0  0.0  0.0   \n",
              "1  0.0  0.0  0.0  12.0  13.0   5.0  0.0  0.0  0.0  0.0  ...  0.0  0.0  0.0   \n",
              "2  0.0  0.0  0.0   4.0  15.0  12.0  0.0  0.0  0.0  0.0  ...  0.0  0.0  0.0   \n",
              "3  0.0  0.0  7.0  15.0  13.0   1.0  0.0  0.0  0.0  8.0  ...  0.0  0.0  0.0   \n",
              "4  0.0  0.0  0.0   1.0  11.0   0.0  0.0  0.0  0.0  0.0  ...  0.0  0.0  0.0   \n",
              "\n",
              "    58    59    60    61   62   63   64  \n",
              "0  6.0  13.0  10.0   0.0  0.0  0.0  0.0  \n",
              "1  0.0  11.0  16.0  10.0  0.0  0.0  1.0  \n",
              "2  0.0   3.0  11.0  16.0  9.0  0.0  2.0  \n",
              "3  7.0  13.0  13.0   9.0  0.0  0.0  3.0  \n",
              "4  0.0   2.0  16.0   4.0  0.0  0.0  4.0  \n",
              "\n",
              "[5 rows x 65 columns]"
            ]
          },
          "metadata": {
            "tags": []
          },
          "execution_count": 2
        }
      ]
    },
    {
      "cell_type": "code",
      "metadata": {
        "id": "nI73iFv6mjFe",
        "colab_type": "code",
        "colab": {},
        "outputId": "f9a3a329-e5d8-445d-ad4d-93a8f06fb2b7"
      },
      "source": [
        "print(M.shape)"
      ],
      "execution_count": null,
      "outputs": [
        {
          "output_type": "stream",
          "text": [
            "(1528, 65)\n"
          ],
          "name": "stdout"
        }
      ]
    },
    {
      "cell_type": "code",
      "metadata": {
        "id": "5sLUVGZnmjFr",
        "colab_type": "code",
        "colab": {},
        "outputId": "b5da15a3-90b6-4e68-a7e6-81cb4041ab8b"
      },
      "source": [
        "X= np.empty((1528,64))\n",
        "X=np.array(M.iloc[:,:-1])\n",
        "print(X.shape)\n",
        "print(X)"
      ],
      "execution_count": null,
      "outputs": [
        {
          "output_type": "stream",
          "text": [
            "(1528, 64)\n",
            "[[ 0.  0.  5. ...  0.  0.  0.]\n",
            " [ 0.  0.  0. ... 10.  0.  0.]\n",
            " [ 0.  0.  0. ... 16.  9.  0.]\n",
            " ...\n",
            " [ 0.  0.  0. ...  2.  0.  0.]\n",
            " [ 0.  0.  2. ...  0.  0.  0.]\n",
            " [ 0.  0.  1. ...  0.  0.  0.]]\n"
          ],
          "name": "stdout"
        }
      ]
    },
    {
      "cell_type": "code",
      "metadata": {
        "id": "4NNiUD_nmjF9",
        "colab_type": "code",
        "colab": {}
      },
      "source": [
        "trueLabels= np.array(M.iloc[:,-1])"
      ],
      "execution_count": null,
      "outputs": []
    },
    {
      "cell_type": "code",
      "metadata": {
        "id": "OBx180XSmjGq",
        "colab_type": "code",
        "colab": {},
        "outputId": "392d8ed5-eec2-4a42-e40a-d17e237827a9"
      },
      "source": [
        "print(\"M = \",M.shape)\n",
        "print(\"X= \",X.shape)\n",
        "print(\"trueLabels= \",trueLabels.shape)"
      ],
      "execution_count": null,
      "outputs": [
        {
          "output_type": "stream",
          "text": [
            "M =  (1528, 65)\n",
            "X=  (1528, 64)\n",
            "trueLabels=  (1528,)\n"
          ],
          "name": "stdout"
        }
      ]
    },
    {
      "cell_type": "code",
      "metadata": {
        "id": "rxE6XtZmmjHB",
        "colab_type": "code",
        "colab": {},
        "outputId": "2853e042-b960-4408-8c44-947fc3fbc818"
      },
      "source": [
        "\n",
        "\n",
        "from sklearn.cluster import KMeans\n",
        "kmeans=KMeans(n_clusters=5)\n",
        "kmeans.fit(X)\n",
        "predicted=kmeans.predict(X)\n",
        "\n",
        "from sklearn.metrics.cluster import adjusted_rand_score\n",
        "adjusted_rand_score(trueLabels,predicted)"
      ],
      "execution_count": null,
      "outputs": [
        {
          "output_type": "execute_result",
          "data": {
            "text/plain": [
              "0.398093641184947"
            ]
          },
          "metadata": {
            "tags": []
          },
          "execution_count": 7
        }
      ]
    },
    {
      "cell_type": "code",
      "metadata": {
        "id": "jhLEPC7rmjHt",
        "colab_type": "code",
        "colab": {},
        "outputId": "2472a2db-b81e-4bf3-c01a-50e2798025a7"
      },
      "source": [
        "import warnings; warnings.simplefilter('ignore')\n",
        "from sklearn.metrics import adjusted_mutual_info_score\n",
        "adjusted_mutual_info_score(trueLabels, predicted)"
      ],
      "execution_count": null,
      "outputs": [
        {
          "output_type": "execute_result",
          "data": {
            "text/plain": [
              "0.47290014360934446"
            ]
          },
          "metadata": {
            "tags": []
          },
          "execution_count": 8
        }
      ]
    },
    {
      "cell_type": "code",
      "metadata": {
        "id": "fFS28ACFmjIT",
        "colab_type": "code",
        "colab": {},
        "outputId": "0fc79c2c-3683-4ef1-99c9-7ae2bef12e94"
      },
      "source": [
        "adj_rand_scores=[]\n",
        "adj_mutual_info=[]\n",
        "for k in list(range(1,50)):\n",
        "    kmean=KMeans(n_clusters=k)\n",
        "    kmean.fit(X)\n",
        "    predicted=kmeans.predict(X)\n",
        "    adj_rand_scores=adjusted_rand_score(trueLabels,predicted)\n",
        "    adj_mutual_info=adjusted_mutual_info_score(trueLabels,predicted)\n",
        "avgPerformance1=np.mean(adj_rand_scores)\n",
        "avgPerformance2=np.mean(adj_mutual_info)\n",
        "print(avgPerformance1,avgPerformance2)"
      ],
      "execution_count": null,
      "outputs": [
        {
          "output_type": "stream",
          "text": [
            "0.398093641184947 0.47290014360934446\n"
          ],
          "name": "stdout"
        }
      ]
    },
    {
      "cell_type": "markdown",
      "metadata": {
        "id": "l0nYJHzkmjJY",
        "colab_type": "text"
      },
      "source": [
        "\n",
        "1.The value of averaged ARI over 20 repeatations wont change because ARI value ranges from -1 to 1. \n",
        "2.When number of cluster increases Rand Index value(RI) will increase upto 1 however Average Rand Index (ARI) doesnt."
      ]
    },
    {
      "cell_type": "code",
      "metadata": {
        "id": "CPIhlEmtmjJa",
        "colab_type": "code",
        "colab": {}
      },
      "source": [
        "\n",
        "from sklearn.cluster import k_means_\n",
        "from sklearn.metrics.pairwise import cosine_similarity, pairwise_distances\n",
        "from sklearn.preprocessing import StandardScaler\n",
        "\n",
        "\n",
        "def create_cluster(sparse_data, nclust = 10):\n",
        "\n",
        "   \n",
        "    def euc_dist(X, Y = None, Y_norm_squared = None, squared = False):\n",
        "            return cosine_similarity(X, Y)\n",
        "    k_means_.euclidean_distances = euc_dist\n",
        "    \n",
        "    scaler = StandardScaler(with_mean=False)\n",
        "    sparse_data = scaler.fit_transform(sparse_data)\n",
        "    kmeans = k_means_.KMeans(n_clusters = nclust, n_jobs = 20, random_state = 3425)\n",
        "    _ = kmeans.fit(sparse_data)\n",
        "    return kmeans.labels_"
      ],
      "execution_count": null,
      "outputs": []
    },
    {
      "cell_type": "code",
      "metadata": {
        "id": "c4txOfo1mjJy",
        "colab_type": "code",
        "colab": {},
        "outputId": "a67ce0d1-17c1-4846-cd13-d1101372fb51"
      },
      "source": [
        "k=5\n",
        "predicted=create_cluster(X,k)\n",
        "adj_rand_score=adjusted_rand_score(trueLabels,predicted)\n",
        "adj_mutual_info=adjusted_mutual_info_score(trueLabels,predicted)\n",
        "print(adj_rand_score)\n",
        "print(adj_mutual_info)"
      ],
      "execution_count": null,
      "outputs": [
        {
          "output_type": "stream",
          "text": [
            "0.2938436723744191\n",
            "0.39396513803631045\n"
          ],
          "name": "stdout"
        }
      ]
    },
    {
      "cell_type": "code",
      "metadata": {
        "id": "cZx89RCsmjKX",
        "colab_type": "code",
        "colab": {},
        "outputId": "a2b6b9a1-2d5f-42d0-ca89-90dd8b0da4a9"
      },
      "source": [
        "adj_rand_scores=[]\n",
        "adj_mutual_info=[]\n",
        "for k in list(range(1,50)):\n",
        "    predicted=create_cluster(X,k)\n",
        "    adj_rand_scores=adjusted_rand_score(trueLabels,predicted)\n",
        "    adj_mutual_info=adjusted_mutual_info_score(trueLabels,predicted)\n",
        "avgPerformance1=np.mean(adj_rand_scores)\n",
        "avgPerformance2=np.mean(adj_mutual_info)\n",
        "print(avgPerformance1,avgPerformance2)"
      ],
      "execution_count": null,
      "outputs": [
        {
          "output_type": "stream",
          "text": [
            "0.35632094559635524 0.5450712964634341\n"
          ],
          "name": "stdout"
        }
      ]
    },
    {
      "cell_type": "markdown",
      "metadata": {
        "id": "R0dWcmRTmjLb",
        "colab_type": "text"
      },
      "source": [
        "#Comparing Clustering Performance\n",
        "1.RAND score for the Euclidean distance is 0.398 which is higher than the RAND score of Cosine Similarity 0.356.\n",
        "2.Since the RAND score of K means Euclidean distance is more, we can say that it performs better than the Cosine Similarity."
      ]
    },
    {
      "cell_type": "code",
      "metadata": {
        "id": "KpIg4nGsmjLe",
        "colab_type": "code",
        "colab": {},
        "outputId": "7a6d83d6-fed3-40de-f52e-4e8b728bd158"
      },
      "source": [
        "#Part B\n",
        "# Question 1\n",
        "print(M.shape)"
      ],
      "execution_count": null,
      "outputs": [
        {
          "output_type": "stream",
          "text": [
            "(1528, 65)\n"
          ],
          "name": "stdout"
        }
      ]
    },
    {
      "cell_type": "code",
      "metadata": {
        "id": "EKjMkHZNmjL-",
        "colab_type": "code",
        "colab": {},
        "outputId": "0a4df466-7e77-4ff9-9b65-4cf3eecd3bad"
      },
      "source": [
        "from sklearn.preprocessing import scale\n",
        "Xnorm = scale(M)\n",
        "from sklearn.decomposition import PCA\n",
        "pca = PCA(n_components=41)\n",
        "pca.fit(Xnorm)\n"
      ],
      "execution_count": null,
      "outputs": [
        {
          "output_type": "execute_result",
          "data": {
            "text/plain": [
              "PCA(copy=True, iterated_power='auto', n_components=41, random_state=None,\n",
              "  svd_solver='auto', tol=0.0, whiten=False)"
            ]
          },
          "metadata": {
            "tags": []
          },
          "execution_count": 118
        }
      ]
    },
    {
      "cell_type": "code",
      "metadata": {
        "id": "_Um7cXLSmjNh",
        "colab_type": "code",
        "colab": {},
        "outputId": "45b8ce01-4c0a-4e75-8a87-5b48c44a1549"
      },
      "source": [
        "var= pca.explained_variance_ratio_\n",
        "print(var)"
      ],
      "execution_count": null,
      "outputs": [
        {
          "output_type": "stream",
          "text": [
            "[0.12012702 0.0965486  0.0828305  0.06516517 0.04882451 0.04319532\n",
            " 0.03943346 0.03714306 0.03009792 0.02833582 0.0277005  0.02535963\n",
            " 0.02268195 0.02220471 0.02128586 0.01909622 0.01722774 0.01703945\n",
            " 0.01584551 0.01446521 0.0127709  0.01241635 0.01172973 0.0105868\n",
            " 0.00987804 0.00916024 0.00877479 0.00837798 0.00809153 0.00702958\n",
            " 0.00696809 0.00660755 0.00635295 0.0062838  0.00581909 0.00548021\n",
            " 0.0050367  0.00499816 0.00458683 0.00423908 0.00397427]\n"
          ],
          "name": "stdout"
        }
      ]
    },
    {
      "cell_type": "code",
      "metadata": {
        "id": "vMZ4HFs9mjO5",
        "colab_type": "code",
        "colab": {},
        "outputId": "0ebf8cc6-5a74-4415-b42e-f4c4c8e499ef"
      },
      "source": [
        "var1=np.cumsum(np.round(pca.explained_variance_ratio_, decimals=4)*100)\n",
        "print(var1)\n",
        "plt.plot(var1)\n",
        "plt.xlabel(\"Principal components\")\n",
        "plt.ylabel(\"Variance captured\")"
      ],
      "execution_count": null,
      "outputs": [
        {
          "output_type": "stream",
          "text": [
            "[12.01 21.66 29.94 36.46 41.34 45.66 49.6  53.31 56.32 59.15 61.92 64.46\n",
            " 66.73 68.95 71.08 72.99 74.71 76.41 77.99 79.44 80.72 81.96 83.13 84.19\n",
            " 85.18 86.1  86.98 87.82 88.63 89.33 90.03 90.69 91.33 91.96 92.54 93.09\n",
            " 93.59 94.09 94.55 94.97 95.37]\n"
          ],
          "name": "stdout"
        },
        {
          "output_type": "execute_result",
          "data": {
            "text/plain": [
              "Text(0, 0.5, 'Variance captured')"
            ]
          },
          "metadata": {
            "tags": []
          },
          "execution_count": 120
        },
        {
          "output_type": "display_data",
          "data": {
            "image/png": "[encoded data removed]",
            "text/plain": [
              "<Figure size 432x288 with 1 Axes>"
            ]
          },
          "metadata": {
            "tags": [],
            "needs_background": "light"
          }
        }
      ]
    },
    {
      "cell_type": "code",
      "metadata": {
        "id": "fF9qxoS5mjPY",
        "colab_type": "code",
        "colab": {}
      },
      "source": [
        "# 41 minimum dimension are required to capture at least 95% variance"
      ],
      "execution_count": null,
      "outputs": []
    },
    {
      "cell_type": "code",
      "metadata": {
        "id": "uNKWAQFxmjQZ",
        "colab_type": "code",
        "colab": {},
        "outputId": "7a78ea85-d646-4355-ab41-bd8f638bb557"
      },
      "source": [
        "#Question 2\n",
        "M.shape\n",
        "pca = PCA(2)  # project from 64 to 2 dimensions\n",
        "projected = pca.fit_transform(M)\n",
        "print(M.shape)\n",
        "print(projected.shape)"
      ],
      "execution_count": null,
      "outputs": [
        {
          "output_type": "stream",
          "text": [
            "(1528, 65)\n",
            "(1528, 2)\n"
          ],
          "name": "stdout"
        }
      ]
    },
    {
      "cell_type": "code",
      "metadata": {
        "id": "uT6Jtah2mjQm",
        "colab_type": "code",
        "colab": {},
        "outputId": "72d26425-dce2-422f-ffac-9ac9b158d63f"
      },
      "source": [
        "plt.scatter(projected[:, 0], projected[:, 1],\n",
        "            c=trueLabels, edgecolor='none', alpha=0.5,\n",
        "            cmap=plt.cm.get_cmap('Spectral', 10))\n",
        "plt.xlabel('V1')\n",
        "plt.ylabel('V2')\n",
        "plt.colorbar();"
      ],
      "execution_count": null,
      "outputs": [
        {
          "output_type": "display_data",
          "data": {
            "image/png": "[encoded data removed]",
            "text/plain": [
              "<Figure size 432x288 with 2 Axes>"
            ]
          },
          "metadata": {
            "tags": [],
            "needs_background": "light"
          }
        }
      ]
    },
    {
      "cell_type": "code",
      "metadata": {
        "id": "1RNVYg4dmjQ5",
        "colab_type": "code",
        "colab": {}
      },
      "source": [
        ""
      ],
      "execution_count": null,
      "outputs": []
    }
  ]
}